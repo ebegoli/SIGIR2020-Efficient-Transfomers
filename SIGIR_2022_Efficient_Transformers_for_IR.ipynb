{
  "nbformat": 4,
  "nbformat_minor": 0,
  "metadata": {
    "colab": {
      "name": "SIGIR 2022 Efficient Transformers for IR.ipynb",
      "provenance": [],
      "authorship_tag": "ABX9TyPqU6fryZc2CDjTChc1LC5b",
      "include_colab_link": true
    },
    "kernelspec": {
      "name": "python3",
      "display_name": "Python 3"
    },
    "language_info": {
      "name": "python"
    }
  },
  "cells": [
    {
      "cell_type": "markdown",
      "metadata": {
        "id": "view-in-github",
        "colab_type": "text"
      },
      "source": [
        "<a href=\"https://colab.research.google.com/github/ebegoli/SIGIR2020-Efficient-Transfomers/blob/main/SIGIR_2022_Efficient_Transformers_for_IR.ipynb\" target=\"_parent\"><img src=\"https://colab.research.google.com/assets/colab-badge.svg\" alt=\"Open In Colab\"/></a>"
      ]
    },
    {
      "cell_type": "code",
      "execution_count": null,
      "metadata": {
        "id": "MB4PkWm8-pfn"
      },
      "outputs": [],
      "source": [
        ""
      ]
    }
  ]
}